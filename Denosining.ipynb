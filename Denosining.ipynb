{
  "nbformat": 4,
  "nbformat_minor": 0,
  "metadata": {
    "colab": {
      "name": "Denosining.ipynb",
      "provenance": [],
      "collapsed_sections": []
    },
    "kernelspec": {
      "name": "python3",
      "display_name": "Python 3"
    },
    "language_info": {
      "name": "python"
    }
  },
  "cells": [
    {
      "cell_type": "code",
      "source": [
        "import numpy  as np\n",
        "import matplotlib.pyplot as plt\n",
        "from keras.models import Sequential\n",
        "from keras.layers import Dense\n",
        "import PIL\n",
        "import tensorflow as tf\n",
        "from keras.datasets import cifar10\n",
        "from tensorflow import keras\n",
        "from keras.models import Sequential\n",
        "from keras.layers import (\n",
        "    Conv2DTranspose,Reshape,BatchNormalization, SeparableConv2D, MaxPooling2D, Activation, Flatten, Dropout, Dense, Conv2D,UpSampling2D,Input\n",
        ")\n",
        "\n",
        "from PIL import Image as im\n",
        "from keras.models import Model\n",
        "from sklearn.model_selection import train_test_split\n",
        "import cv2\n"
      ],
      "metadata": {
        "id": "iAEqNoXBbMC2"
      },
      "execution_count": 1,
      "outputs": []
    },
    {
      "cell_type": "code",
      "source": [
        "def load_data():\n",
        "    (x_train, y_train), (x_test, y_test) = cifar10.load_data()\n",
        "    m = x_train.shape[0]\n",
        "    n = x_test.shape[0]\n",
        "    width = x_train.shape[1]\n",
        "    height = x_train.shape[2]\n",
        "    x_train = np.reshape(x_train, (-1,width,height,3))\n",
        "    x_test = np.reshape(x_test,(-1,width,height,3))\n",
        "    y_train = tf.keras.utils.to_categorical(y_train)\n",
        "    y_test = tf.keras.utils.to_categorical(y_test)\n",
        "\n",
        "    x_train = x_train.astype('float32')\n",
        "    x_test = x_test.astype('float32')\n",
        "\n",
        "    x_train /= 255\n",
        "    x_test /= 255\n",
        "\n",
        "    return x_train,y_train,x_test,y_test"
      ],
      "metadata": {
        "id": "go2IoD83bHUw"
      },
      "execution_count": 2,
      "outputs": []
    },
    {
      "cell_type": "code",
      "source": [
        "x_train,y_train,x_test,y_test = load_data()"
      ],
      "metadata": {
        "colab": {
          "base_uri": "https://localhost:8080/"
        },
        "id": "vXiY7Fc5bYfO",
        "outputId": "01abf6f5-3048-41f1-a61e-acee68d9f278"
      },
      "execution_count": 3,
      "outputs": [
        {
          "output_type": "stream",
          "name": "stdout",
          "text": [
            "Downloading data from https://www.cs.toronto.edu/~kriz/cifar-10-python.tar.gz\n",
            "170500096/170498071 [==============================] - 5s 0us/step\n",
            "170508288/170498071 [==============================] - 5s 0us/step\n"
          ]
        }
      ]
    },
    {
      "cell_type": "code",
      "source": [
        "x_train.shape"
      ],
      "metadata": {
        "colab": {
          "base_uri": "https://localhost:8080/"
        },
        "id": "4fKiOCEYbfHH",
        "outputId": "4922a594-2ad1-401f-c92e-e1af054f1203"
      },
      "execution_count": 4,
      "outputs": [
        {
          "output_type": "execute_result",
          "data": {
            "text/plain": [
              "(50000, 32, 32, 3)"
            ]
          },
          "metadata": {},
          "execution_count": 4
        }
      ]
    },
    {
      "cell_type": "code",
      "source": [
        "y_train.shape"
      ],
      "metadata": {
        "colab": {
          "base_uri": "https://localhost:8080/"
        },
        "id": "kuK-8xEebkXK",
        "outputId": "892676d6-e491-4cc0-f141-0dabc3c45a7a"
      },
      "execution_count": 5,
      "outputs": [
        {
          "output_type": "execute_result",
          "data": {
            "text/plain": [
              "(50000, 10)"
            ]
          },
          "metadata": {},
          "execution_count": 5
        }
      ]
    },
    {
      "cell_type": "code",
      "source": [
        "x_test.shape"
      ],
      "metadata": {
        "colab": {
          "base_uri": "https://localhost:8080/"
        },
        "id": "K08fASuHbl28",
        "outputId": "e6c3e657-13c5-488d-faee-7de01fb16f5b"
      },
      "execution_count": 8,
      "outputs": [
        {
          "output_type": "execute_result",
          "data": {
            "text/plain": [
              "(10000, 32, 32, 3)"
            ]
          },
          "metadata": {},
          "execution_count": 8
        }
      ]
    },
    {
      "cell_type": "code",
      "source": [
        "y_test.shape"
      ],
      "metadata": {
        "colab": {
          "base_uri": "https://localhost:8080/"
        },
        "id": "-gxrKIupbnX0",
        "outputId": "dbb17807-b48a-44ba-aaf7-48c8b3010d15"
      },
      "execution_count": 9,
      "outputs": [
        {
          "output_type": "execute_result",
          "data": {
            "text/plain": [
              "(10000, 10)"
            ]
          },
          "metadata": {},
          "execution_count": 9
        }
      ]
    },
    {
      "cell_type": "code",
      "source": [
        "def add_gaussian_noise(X_imgs):\n",
        "    gaussian_noise_imgs = []\n",
        "    row, col, ch= X_imgs[0].shape\n",
        "    # Gaussian distribution parameters\n",
        "    '''mean = 0\n",
        "    var = 0.9\n",
        "    sigma = var ** 0.5'''\n",
        "    \n",
        "    for X_img in X_imgs:\n",
        "        gaussian = X_img + 0.1*np.random.normal(loc = 0.0,scale = 1.0,size = (row, col, ch))\n",
        "        gaussian_img = np.clip(gaussian, 0., 1.)\n",
        "        '''gaussian_img = cv2.addWeighted(X_img, 0.75, 0.4 * gaussian, 0.25, 0)\n",
        "        gaussian_img = np.reshape(gaussian_img,(row,col,ch))'''\n",
        "        gaussian_noise_imgs.append(gaussian_img)\n",
        "    gaussian_noise_imgs = np.array(gaussian_noise_imgs, dtype = np.float32)\n",
        "    return gaussian_noise_imgs"
      ],
      "metadata": {
        "id": "OQU2svzicUXu"
      },
      "execution_count": 6,
      "outputs": []
    },
    {
      "cell_type": "code",
      "source": [
        "x_train_noisy = add_gaussian_noise(x_train)\n",
        "x_test_noisy = add_gaussian_noise(x_test)"
      ],
      "metadata": {
        "id": "9qgevQLpcbys"
      },
      "execution_count": 7,
      "outputs": []
    },
    {
      "cell_type": "code",
      "source": [
        "x_train_noisy.shape"
      ],
      "metadata": {
        "colab": {
          "base_uri": "https://localhost:8080/"
        },
        "id": "96_0-rmmwvgy",
        "outputId": "36813ebd-dccc-4958-97c2-bcfc610cbd65"
      },
      "execution_count": 8,
      "outputs": [
        {
          "output_type": "execute_result",
          "data": {
            "text/plain": [
              "(50000, 32, 32, 3)"
            ]
          },
          "metadata": {},
          "execution_count": 8
        }
      ]
    },
    {
      "cell_type": "code",
      "source": [
        "x_test_noisy.shape"
      ],
      "metadata": {
        "colab": {
          "base_uri": "https://localhost:8080/"
        },
        "id": "TMxbRpHKxJND",
        "outputId": "4efa8564-b687-4f80-be14-e6ae65019645"
      },
      "execution_count": 13,
      "outputs": [
        {
          "output_type": "execute_result",
          "data": {
            "text/plain": [
              "(10000, 32, 32, 3)"
            ]
          },
          "metadata": {},
          "execution_count": 13
        }
      ]
    },
    {
      "cell_type": "code",
      "source": [
        "import PIL\n",
        "from PIL import Image\n",
        "img = x_train[0]\n",
        "plt.imshow(img)\n",
        "plt.show()\n"
      ],
      "metadata": {
        "colab": {
          "base_uri": "https://localhost:8080/",
          "height": 266
        },
        "id": "F0hlSk6tu3vG",
        "outputId": "1725b80c-61d6-47e2-c089-13bb59aa93dc"
      },
      "execution_count": 9,
      "outputs": [
        {
          "output_type": "display_data",
          "data": {
            "text/plain": [
              "<Figure size 432x288 with 1 Axes>"
            ],
            "image/png": "[encoded data removed]"
          },
          "metadata": {
            "needs_background": "light"
          }
        }
      ]
    },
    {
      "cell_type": "code",
      "source": [
        "import PIL\n",
        "from PIL import Image\n",
        "img = x_train_noisy[0]\n",
        "#img = np.reshape(img, (28,28))\n",
        "plt.imshow(img)\n",
        "plt.show()\n"
      ],
      "metadata": {
        "colab": {
          "base_uri": "https://localhost:8080/",
          "height": 266
        },
        "id": "_oPxQ1N5cgxG",
        "outputId": "1f5cb870-33fb-4431-add6-5a4b279e168b"
      },
      "execution_count": 10,
      "outputs": [
        {
          "output_type": "display_data",
          "data": {
            "text/plain": [
              "<Figure size 432x288 with 1 Axes>"
            ],
            "image/png": "[encoded data removed]"
          },
          "metadata": {
            "needs_background": "light"
          }
        }
      ]
    },
    {
      "cell_type": "code",
      "source": [
        "image = x_train_noisy[0]\n",
        "img = im.fromarray(image, 'RGB')\n",
        "plt.imshow(image)\n",
        "plt.show()"
      ],
      "metadata": {
        "colab": {
          "base_uri": "https://localhost:8080/",
          "height": 266
        },
        "id": "UTmvx_Myd_Pd",
        "outputId": "8102716c-f51b-42cf-f217-22e12fdc4d27"
      },
      "execution_count": 11,
      "outputs": [
        {
          "output_type": "display_data",
          "data": {
            "text/plain": [
              "<Figure size 432x288 with 1 Axes>"
            ],
            "image/png": "[encoded data removed]"
          },
          "metadata": {
            "needs_background": "light"
          }
        }
      ]
    },
    {
      "cell_type": "code",
      "source": [
        "def encoder(input_img):\n",
        "\n",
        "    conv1_1 = Conv2D(64, (3, 3), activation='relu', padding='same')(input_img) \n",
        "    conv1_2 = MaxPooling2D((2,2),padding = 'same')(conv1_1)\n",
        "    conv1_3 = BatchNormalization()(conv1_2)\n",
        "    \n",
        "\n",
        "    conv2_1 = Conv2D(32,kernel_size=3,padding='same',activation='relu')(conv1_3)\n",
        "    conv2_2 = MaxPooling2D((2,2),padding = 'same')(conv2_1)\n",
        "    conv2_3 = BatchNormalization()(conv2_2)\n",
        "\n",
        "    conv3_1 = Conv2D(16,kernel_size=3,padding='same',activation='relu')(conv2_3)\n",
        "    conv3_2 = MaxPooling2D((2,2),padding = 'same')(conv3_1)\n",
        "    conv3_3 = BatchNormalization()(conv3_2)\n",
        "    \n",
        "\n",
        "    #conv4 = Flatten()(conv3_2)\n",
        "    #conv4 = Dense(1024)(conv4)\n",
        "    return conv3_3"
      ],
      "metadata": {
        "id": "KYWUoJg4eIm2"
      },
      "execution_count": 12,
      "outputs": []
    },
    {
      "cell_type": "code",
      "source": [
        "def decoder(encode):\n",
        "    \n",
        "    #conv5_1 = Reshape((4,4,64))(encode)\n",
        "    #conv5_2 = Conv2DTranspose(32, kernel_size = 3, strides = 2,activation='relu', padding='same')(conv5_1)\n",
        "    conv4_1 = Conv2D(64, (3, 3), activation='relu', padding='same')(encode)\n",
        "    conv4_2 = UpSampling2D((2,2))(conv4_1)\n",
        "\n",
        "    conv5_1 = Conv2D(32, (3, 3), activation='relu', padding='same')(conv4_2)\n",
        "    conv5_2  = UpSampling2D((2, 2))(conv5_1)\n",
        "\n",
        "    conv6_1 = Conv2D(16, (3, 3), activation='relu',padding = 'same')(conv5_2)\n",
        "    conv6_2 = UpSampling2D((2, 2))(conv6_1)\n",
        "    decode = Conv2D(3, (3, 3), activation='sigmoid', padding='same')(conv6_2)\n",
        "\n",
        "    #conv6_1 = Conv2DTranspose(16, kernel_size = 3, strides = 2,activation='relu', padding='same')(conv5_2)\n",
        "    #conv6_2 = BatchNormalization()(conv6_1)\n",
        "\n",
        "    conv7_1 = Conv2DTranspose(3, kernel_size=3, strides=2, padding='same', activation=\"sigmoid\")(conv6_2)\n",
        "   \n",
        "    return decode"
      ],
      "metadata": {
        "id": "3sw-zxHFjc_1"
      },
      "execution_count": 13,
      "outputs": []
    },
    {
      "cell_type": "code",
      "source": [
        "inChannel = 3\n",
        "x, y = 32, 32\n",
        "input_img = Input(shape = (x, y,inChannel))\n",
        "autoencoder = Model(input_img, decoder(encoder(input_img)))"
      ],
      "metadata": {
        "id": "17yaE3i8hx3c"
      },
      "execution_count": 14,
      "outputs": []
    },
    {
      "cell_type": "code",
      "source": [
        "autoencoder = Model(input_img, decoder(encoder(input_img)))"
      ],
      "metadata": {
        "id": "HNdoXx7qhtXh"
      },
      "execution_count": 114,
      "outputs": []
    },
    {
      "cell_type": "code",
      "source": [
        "lr_schedule = keras.optimizers.schedules.ExponentialDecay(\n",
        "    initial_learning_rate=0.5,\n",
        "    decay_steps=10000,\n",
        "    decay_rate=0.9)\n",
        "opt = keras.optimizers.SGD(learning_rate=lr_schedule)\n",
        "autoencoder.compile(loss=\"binary_crossentropy\", optimizer=opt)"
      ],
      "metadata": {
        "id": "NGI1PlutiGtS"
      },
      "execution_count": 62,
      "outputs": []
    },
    {
      "cell_type": "code",
      "source": [
        "autoencoder.summary()"
      ],
      "metadata": {
        "colab": {
          "base_uri": "https://localhost:8080/"
        },
        "id": "vfbTXICOiY4i",
        "outputId": "ccfaf3f4-5183-4824-c201-41b703ad6efc"
      },
      "execution_count": 15,
      "outputs": [
        {
          "output_type": "stream",
          "name": "stdout",
          "text": [
            "Model: \"model\"\n",
            "_________________________________________________________________\n",
            " Layer (type)                Output Shape              Param #   \n",
            "=================================================================\n",
            " input_1 (InputLayer)        [(None, 32, 32, 3)]       0         \n",
            "                                                                 \n",
            " conv2d (Conv2D)             (None, 32, 32, 64)        1792      \n",
            "                                                                 \n",
            " max_pooling2d (MaxPooling2D  (None, 16, 16, 64)       0         \n",
            " )                                                               \n",
            "                                                                 \n",
            " batch_normalization (BatchN  (None, 16, 16, 64)       256       \n",
            " ormalization)                                                   \n",
            "                                                                 \n",
            " conv2d_1 (Conv2D)           (None, 16, 16, 32)        18464     \n",
            "                                                                 \n",
            " max_pooling2d_1 (MaxPooling  (None, 8, 8, 32)         0         \n",
            " 2D)                                                             \n",
            "                                                                 \n",
            " batch_normalization_1 (Batc  (None, 8, 8, 32)         128       \n",
            " hNormalization)                                                 \n",
            "                                                                 \n",
            " conv2d_2 (Conv2D)           (None, 8, 8, 16)          4624      \n",
            "                                                                 \n",
            " max_pooling2d_2 (MaxPooling  (None, 4, 4, 16)         0         \n",
            " 2D)                                                             \n",
            "                                                                 \n",
            " batch_normalization_2 (Batc  (None, 4, 4, 16)         64        \n",
            " hNormalization)                                                 \n",
            "                                                                 \n",
            " conv2d_3 (Conv2D)           (None, 4, 4, 64)          9280      \n",
            "                                                                 \n",
            " up_sampling2d (UpSampling2D  (None, 8, 8, 64)         0         \n",
            " )                                                               \n",
            "                                                                 \n",
            " conv2d_4 (Conv2D)           (None, 8, 8, 32)          18464     \n",
            "                                                                 \n",
            " up_sampling2d_1 (UpSampling  (None, 16, 16, 32)       0         \n",
            " 2D)                                                             \n",
            "                                                                 \n",
            " conv2d_5 (Conv2D)           (None, 16, 16, 16)        4624      \n",
            "                                                                 \n",
            " up_sampling2d_2 (UpSampling  (None, 32, 32, 16)       0         \n",
            " 2D)                                                             \n",
            "                                                                 \n",
            " conv2d_6 (Conv2D)           (None, 32, 32, 3)         435       \n",
            "                                                                 \n",
            "=================================================================\n",
            "Total params: 58,131\n",
            "Trainable params: 57,907\n",
            "Non-trainable params: 224\n",
            "_________________________________________________________________\n"
          ]
        }
      ]
    },
    {
      "cell_type": "code",
      "source": [
        "train_X,valid_X,train_ground,valid_ground = train_test_split(x_train_noisy,\n",
        "                                                             x_train,\n",
        "                                                             test_size=0.2,\n",
        "                                                             random_state=13)"
      ],
      "metadata": {
        "id": "nQa3HB17lpNQ"
      },
      "execution_count": 16,
      "outputs": []
    },
    {
      "cell_type": "code",
      "source": [
        "train_X.shape"
      ],
      "metadata": {
        "colab": {
          "base_uri": "https://localhost:8080/"
        },
        "id": "AiUcBjH-mbfu",
        "outputId": "23cdb027-8968-49b7-8270-a8c68fa0348c"
      },
      "execution_count": null,
      "outputs": [
        {
          "output_type": "execute_result",
          "data": {
            "text/plain": [
              "(48000, 28, 28, 1)"
            ]
          },
          "metadata": {},
          "execution_count": 182
        }
      ]
    },
    {
      "cell_type": "code",
      "source": [
        "import PIL\n",
        "from PIL import Image\n",
        "img = train_ground[4]\n",
        "#img = np.reshape(img, (28,28))\n",
        "plt.imshow(img)\n",
        "plt.show()"
      ],
      "metadata": {
        "colab": {
          "base_uri": "https://localhost:8080/",
          "height": 266
        },
        "id": "77DkF8DBfsaz",
        "outputId": "312a20a8-4c62-4da3-faed-880b87f325aa"
      },
      "execution_count": 81,
      "outputs": [
        {
          "output_type": "display_data",
          "data": {
            "text/plain": [
              "<Figure size 432x288 with 1 Axes>"
            ],
            "image/png": "[encoded data removed]"
          },
          "metadata": {
            "needs_background": "light"
          }
        }
      ]
    },
    {
      "cell_type": "code",
      "source": [
        "valid_X.shape"
      ],
      "metadata": {
        "colab": {
          "base_uri": "https://localhost:8080/"
        },
        "id": "nMhUSViVmdm-",
        "outputId": "263c8eaf-d395-49ac-ba11-e590be46da6b"
      },
      "execution_count": 48,
      "outputs": [
        {
          "output_type": "execute_result",
          "data": {
            "text/plain": [
              "(10000, 32, 32, 3)"
            ]
          },
          "metadata": {},
          "execution_count": 48
        }
      ]
    },
    {
      "cell_type": "code",
      "source": [
        "train_ground.shape"
      ],
      "metadata": {
        "colab": {
          "base_uri": "https://localhost:8080/"
        },
        "id": "Rh3SXF9Mmgoc",
        "outputId": "c631d99c-c583-4b92-a3ba-d7291eb7ecfa"
      },
      "execution_count": 49,
      "outputs": [
        {
          "output_type": "execute_result",
          "data": {
            "text/plain": [
              "(40000, 32, 32, 3)"
            ]
          },
          "metadata": {},
          "execution_count": 49
        }
      ]
    },
    {
      "cell_type": "code",
      "source": [
        "valid_ground.shape"
      ],
      "metadata": {
        "colab": {
          "base_uri": "https://localhost:8080/"
        },
        "id": "9RlBBNevmi3B",
        "outputId": "c6ea4bbd-5ded-450d-aad5-7ff9f3119aaf"
      },
      "execution_count": 50,
      "outputs": [
        {
          "output_type": "execute_result",
          "data": {
            "text/plain": [
              "(10000, 32, 32, 3)"
            ]
          },
          "metadata": {},
          "execution_count": 50
        }
      ]
    },
    {
      "cell_type": "code",
      "source": [
        ""
      ],
      "metadata": {
        "id": "2GYpPR7YQN--"
      },
      "execution_count": null,
      "outputs": []
    },
    {
      "cell_type": "code",
      "source": [
        "batch_size = 64\n",
        "epochs = 20"
      ],
      "metadata": {
        "id": "RUhciJ5Hmrzf"
      },
      "execution_count": 17,
      "outputs": []
    },
    {
      "cell_type": "code",
      "source": [
        "#opt = tf.keras.optimizers.SGD(learning_rate=0.05)\n",
        "autoencoder.compile(loss='mse', optimizer = 'adam')"
      ],
      "metadata": {
        "id": "wLlpTeuy4zdJ"
      },
      "execution_count": 18,
      "outputs": []
    },
    {
      "cell_type": "code",
      "source": [
        "autoencoder_train = autoencoder.fit(train_X, train_ground, batch_size=batch_size,epochs=epochs,verbose=1,validation_data=(valid_X, valid_ground))\n",
        "autoencoder.save_weights('autoencoder.h5')"
      ],
      "metadata": {
        "colab": {
          "base_uri": "https://localhost:8080/"
        },
        "id": "Jaxc3Enimllq",
        "outputId": "410e06d6-b2e4-408a-ab4c-82dbb4643dc7"
      },
      "execution_count": 19,
      "outputs": [
        {
          "output_type": "stream",
          "name": "stdout",
          "text": [
            "Epoch 1/20\n",
            "625/625 [==============================] - 168s 268ms/step - loss: 0.0158 - val_loss: 0.0119\n",
            "Epoch 2/20\n",
            "625/625 [==============================] - 166s 265ms/step - loss: 0.0111 - val_loss: 0.0109\n",
            "Epoch 3/20\n",
            "625/625 [==============================] - 167s 268ms/step - loss: 0.0100 - val_loss: 0.0098\n",
            "Epoch 4/20\n",
            "625/625 [==============================] - 166s 266ms/step - loss: 0.0096 - val_loss: 0.0091\n",
            "Epoch 5/20\n",
            "625/625 [==============================] - 165s 264ms/step - loss: 0.0089 - val_loss: 0.0084\n",
            "Epoch 6/20\n",
            "625/625 [==============================] - 166s 266ms/step - loss: 0.0086 - val_loss: 0.0082\n",
            "Epoch 7/20\n",
            "625/625 [==============================] - 166s 266ms/step - loss: 0.0084 - val_loss: 0.0085\n",
            "Epoch 8/20\n",
            "625/625 [==============================] - 165s 264ms/step - loss: 0.0081 - val_loss: 0.0077\n",
            "Epoch 9/20\n",
            "625/625 [==============================] - 164s 263ms/step - loss: 0.0081 - val_loss: 0.0077\n",
            "Epoch 10/20\n",
            "625/625 [==============================] - 167s 267ms/step - loss: 0.0079 - val_loss: 0.0075\n",
            "Epoch 11/20\n",
            "625/625 [==============================] - 167s 267ms/step - loss: 0.0078 - val_loss: 0.0077\n",
            "Epoch 12/20\n",
            "625/625 [==============================] - 167s 267ms/step - loss: 0.0077 - val_loss: 0.0086\n",
            "Epoch 13/20\n",
            "625/625 [==============================] - 166s 266ms/step - loss: 0.0076 - val_loss: 0.0073\n",
            "Epoch 14/20\n",
            "625/625 [==============================] - 167s 267ms/step - loss: 0.0076 - val_loss: 0.0073\n",
            "Epoch 15/20\n",
            "625/625 [==============================] - 167s 267ms/step - loss: 0.0075 - val_loss: 0.0076\n",
            "Epoch 16/20\n",
            "625/625 [==============================] - 168s 269ms/step - loss: 0.0074 - val_loss: 0.0072\n",
            "Epoch 17/20\n",
            "625/625 [==============================] - 171s 274ms/step - loss: 0.0074 - val_loss: 0.0070\n",
            "Epoch 18/20\n",
            "625/625 [==============================] - 171s 274ms/step - loss: 0.0073 - val_loss: 0.0074\n",
            "Epoch 19/20\n",
            "625/625 [==============================] - 171s 274ms/step - loss: 0.0072 - val_loss: 0.0078\n",
            "Epoch 20/20\n",
            "625/625 [==============================] - 167s 267ms/step - loss: 0.0072 - val_loss: 0.0069\n"
          ]
        }
      ]
    },
    {
      "cell_type": "code",
      "source": [
        "reconstructs = autoencoder.predict(x_test_noisy)\n",
        "#reconstructs = np.reshape(reconstructs,(-1,28,28))\n",
        "#x_test_noisy = np.reshape(x_test_noisy,(-1,28,28))\n",
        "plt.figure(figsize=(15,12))\n",
        "for i in range(5):\n",
        "    plt.subplot(2,5,1+i)\n",
        "    plt.imshow(x_test_noisy[i])\n",
        "    plt.axis('off')\n",
        "    '''plt.subplot(2,5,6+i)\n",
        "    plt.imshow(reconstructs[i])\n",
        "    plt.axis('off')'''\n",
        "plt.show()"
      ],
      "metadata": {
        "colab": {
          "base_uri": "https://localhost:8080/",
          "height": 175
        },
        "id": "j5wGfDLwstP9",
        "outputId": "ed30b408-8bb3-4cbe-c3eb-d5a2b0bfb6cd"
      },
      "execution_count": 20,
      "outputs": [
        {
          "output_type": "display_data",
          "data": {
            "text/plain": [
              "<Figure size 1080x864 with 5 Axes>"
            ],
            "image/png": "[encoded data removed]"
          },
          "metadata": {
            "needs_background": "light"
          }
        }
      ]
    },
    {
      "cell_type": "code",
      "source": [
        "plt.imshow(x_test[0])"
      ],
      "metadata": {
        "id": "eiMe7mF0Q_pk",
        "outputId": "469f572d-8a86-4756-bdc8-e5638597f0c5",
        "colab": {
          "base_uri": "https://localhost:8080/",
          "height": 283
        }
      },
      "execution_count": 24,
      "outputs": [
        {
          "output_type": "execute_result",
          "data": {
            "text/plain": [
              "<matplotlib.image.AxesImage at 0x7f7c44270e50>"
            ]
          },
          "metadata": {},
          "execution_count": 24
        },
        {
          "output_type": "display_data",
          "data": {
            "text/plain": [
              "<Figure size 432x288 with 1 Axes>"
            ],
            "image/png": "[encoded data removed]"
          },
          "metadata": {
            "needs_background": "light"
          }
        }
      ]
    },
    {
      "cell_type": "code",
      "source": [
        "plt.imshow(reconstructs[0])"
      ],
      "metadata": {
        "id": "vA_zFbZ5090f",
        "outputId": "fe25de04-b82f-4e71-b81f-e9690c8d3d7d",
        "colab": {
          "base_uri": "https://localhost:8080/",
          "height": 283
        }
      },
      "execution_count": 25,
      "outputs": [
        {
          "output_type": "execute_result",
          "data": {
            "text/plain": [
              "<matplotlib.image.AxesImage at 0x7f7c441e7610>"
            ]
          },
          "metadata": {},
          "execution_count": 25
        },
        {
          "output_type": "display_data",
          "data": {
            "text/plain": [
              "<Figure size 432x288 with 1 Axes>"
            ],
            "image/png": "[encoded data removed]"
          },
          "metadata": {
            "needs_background": "light"
          }
        }
      ]
    },
    {
      "cell_type": "code",
      "source": [
        "plt.figure(figsize=(15,12))\n",
        "for i in range(5):\n",
        "    plt.subplot(2,5,6+i)\n",
        "    plt.imshow(reconstructs[i])\n",
        "    plt.axis('off')\n",
        "plt.show()"
      ],
      "metadata": {
        "colab": {
          "base_uri": "https://localhost:8080/",
          "height": 175
        },
        "id": "sKby7-uvipg6",
        "outputId": "7e46554a-f926-4c97-f91d-c02d777d226e"
      },
      "execution_count": 76,
      "outputs": [
        {
          "output_type": "display_data",
          "data": {
            "text/plain": [
              "<Figure size 1080x864 with 5 Axes>"
            ],
            "image/png": "[encoded data removed]"
          },
          "metadata": {
            "needs_background": "light"
          }
        }
      ]
    }
  ]
}